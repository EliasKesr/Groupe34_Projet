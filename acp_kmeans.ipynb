{
 "cells": [
  {
   "cell_type": "code",
   "execution_count": 1,
   "id": "682a2c52",
   "metadata": {},
   "outputs": [
    {
     "name": "stdout",
     "output_type": "stream",
     "text": [
      "Requirement already satisfied: prince in c:\\users\\eloss\\anaconda3\\lib\\site-packages (0.13.0)\n",
      "Requirement already satisfied: altair<6.0.0,>=4.2.2 in c:\\users\\eloss\\anaconda3\\lib\\site-packages (from prince) (5.2.0)\n",
      "Requirement already satisfied: pandas<3.0.0,>=1.4.1 in c:\\users\\eloss\\anaconda3\\lib\\site-packages (from prince) (2.0.3)\n",
      "Requirement already satisfied: scikit-learn<2.0.0,>=1.0.2 in c:\\users\\eloss\\anaconda3\\lib\\site-packages (from prince) (1.3.0)\n",
      "Requirement already satisfied: jinja2 in c:\\users\\eloss\\anaconda3\\lib\\site-packages (from altair<6.0.0,>=4.2.2->prince) (3.1.2)\n",
      "Requirement already satisfied: jsonschema>=3.0 in c:\\users\\eloss\\anaconda3\\lib\\site-packages (from altair<6.0.0,>=4.2.2->prince) (4.17.3)\n",
      "Requirement already satisfied: numpy in c:\\users\\eloss\\anaconda3\\lib\\site-packages (from altair<6.0.0,>=4.2.2->prince) (1.24.3)\n",
      "Requirement already satisfied: packaging in c:\\users\\eloss\\anaconda3\\lib\\site-packages (from altair<6.0.0,>=4.2.2->prince) (23.1)\n",
      "Requirement already satisfied: toolz in c:\\users\\eloss\\anaconda3\\lib\\site-packages (from altair<6.0.0,>=4.2.2->prince) (0.12.0)\n",
      "Requirement already satisfied: python-dateutil>=2.8.2 in c:\\users\\eloss\\anaconda3\\lib\\site-packages (from pandas<3.0.0,>=1.4.1->prince) (2.8.2)\n",
      "Requirement already satisfied: pytz>=2020.1 in c:\\users\\eloss\\anaconda3\\lib\\site-packages (from pandas<3.0.0,>=1.4.1->prince) (2023.3.post1)\n",
      "Requirement already satisfied: tzdata>=2022.1 in c:\\users\\eloss\\anaconda3\\lib\\site-packages (from pandas<3.0.0,>=1.4.1->prince) (2023.3)\n",
      "Requirement already satisfied: scipy>=1.5.0 in c:\\users\\eloss\\anaconda3\\lib\\site-packages (from scikit-learn<2.0.0,>=1.0.2->prince) (1.11.1)\n",
      "Requirement already satisfied: joblib>=1.1.1 in c:\\users\\eloss\\anaconda3\\lib\\site-packages (from scikit-learn<2.0.0,>=1.0.2->prince) (1.2.0)\n",
      "Requirement already satisfied: threadpoolctl>=2.0.0 in c:\\users\\eloss\\anaconda3\\lib\\site-packages (from scikit-learn<2.0.0,>=1.0.2->prince) (2.2.0)\n",
      "Requirement already satisfied: attrs>=17.4.0 in c:\\users\\eloss\\anaconda3\\lib\\site-packages (from jsonschema>=3.0->altair<6.0.0,>=4.2.2->prince) (22.1.0)\n",
      "Requirement already satisfied: pyrsistent!=0.17.0,!=0.17.1,!=0.17.2,>=0.14.0 in c:\\users\\eloss\\anaconda3\\lib\\site-packages (from jsonschema>=3.0->altair<6.0.0,>=4.2.2->prince) (0.18.0)\n",
      "Requirement already satisfied: six>=1.5 in c:\\users\\eloss\\anaconda3\\lib\\site-packages (from python-dateutil>=2.8.2->pandas<3.0.0,>=1.4.1->prince) (1.16.0)\n",
      "Requirement already satisfied: MarkupSafe>=2.0 in c:\\users\\eloss\\anaconda3\\lib\\site-packages (from jinja2->altair<6.0.0,>=4.2.2->prince) (2.1.1)\n"
     ]
    }
   ],
   "source": [
    "!pip install prince"
   ]
  },
  {
   "cell_type": "code",
   "execution_count": 2,
   "id": "9e05ce6e",
   "metadata": {},
   "outputs": [
    {
     "name": "stdout",
     "output_type": "stream",
     "text": [
      "Requirement already satisfied: sentence-transformers in c:\\users\\eloss\\anaconda3\\lib\\site-packages (2.2.2)\n",
      "Requirement already satisfied: transformers<5.0.0,>=4.6.0 in c:\\users\\eloss\\anaconda3\\lib\\site-packages (from sentence-transformers) (4.32.1)\n",
      "Requirement already satisfied: tqdm in c:\\users\\eloss\\anaconda3\\lib\\site-packages (from sentence-transformers) (4.65.0)\n",
      "Requirement already satisfied: torch>=1.6.0 in c:\\users\\eloss\\anaconda3\\lib\\site-packages (from sentence-transformers) (2.1.1)\n",
      "Requirement already satisfied: torchvision in c:\\users\\eloss\\anaconda3\\lib\\site-packages (from sentence-transformers) (0.16.1)\n",
      "Requirement already satisfied: numpy in c:\\users\\eloss\\anaconda3\\lib\\site-packages (from sentence-transformers) (1.24.3)\n",
      "Requirement already satisfied: scikit-learn in c:\\users\\eloss\\anaconda3\\lib\\site-packages (from sentence-transformers) (1.3.0)\n",
      "Requirement already satisfied: scipy in c:\\users\\eloss\\anaconda3\\lib\\site-packages (from sentence-transformers) (1.11.1)\n",
      "Requirement already satisfied: nltk in c:\\users\\eloss\\anaconda3\\lib\\site-packages (from sentence-transformers) (3.8.1)\n",
      "Requirement already satisfied: sentencepiece in c:\\users\\eloss\\anaconda3\\lib\\site-packages (from sentence-transformers) (0.1.99)\n",
      "Requirement already satisfied: huggingface-hub>=0.4.0 in c:\\users\\eloss\\anaconda3\\lib\\site-packages (from sentence-transformers) (0.15.1)\n",
      "Requirement already satisfied: filelock in c:\\users\\eloss\\anaconda3\\lib\\site-packages (from huggingface-hub>=0.4.0->sentence-transformers) (3.9.0)\n",
      "Requirement already satisfied: fsspec in c:\\users\\eloss\\anaconda3\\lib\\site-packages (from huggingface-hub>=0.4.0->sentence-transformers) (2023.4.0)\n",
      "Requirement already satisfied: requests in c:\\users\\eloss\\anaconda3\\lib\\site-packages (from huggingface-hub>=0.4.0->sentence-transformers) (2.31.0)\n",
      "Requirement already satisfied: pyyaml>=5.1 in c:\\users\\eloss\\anaconda3\\lib\\site-packages (from huggingface-hub>=0.4.0->sentence-transformers) (6.0)\n",
      "Requirement already satisfied: typing-extensions>=3.7.4.3 in c:\\users\\eloss\\anaconda3\\lib\\site-packages (from huggingface-hub>=0.4.0->sentence-transformers) (4.7.1)\n",
      "Requirement already satisfied: packaging>=20.9 in c:\\users\\eloss\\anaconda3\\lib\\site-packages (from huggingface-hub>=0.4.0->sentence-transformers) (23.1)\n",
      "Requirement already satisfied: sympy in c:\\users\\eloss\\anaconda3\\lib\\site-packages (from torch>=1.6.0->sentence-transformers) (1.11.1)\n",
      "Requirement already satisfied: networkx in c:\\users\\eloss\\anaconda3\\lib\\site-packages (from torch>=1.6.0->sentence-transformers) (3.1)\n",
      "Requirement already satisfied: jinja2 in c:\\users\\eloss\\anaconda3\\lib\\site-packages (from torch>=1.6.0->sentence-transformers) (3.1.2)\n",
      "Requirement already satisfied: colorama in c:\\users\\eloss\\anaconda3\\lib\\site-packages (from tqdm->sentence-transformers) (0.4.6)\n",
      "Requirement already satisfied: regex!=2019.12.17 in c:\\users\\eloss\\anaconda3\\lib\\site-packages (from transformers<5.0.0,>=4.6.0->sentence-transformers) (2022.7.9)\n",
      "Requirement already satisfied: tokenizers!=0.11.3,<0.14,>=0.11.1 in c:\\users\\eloss\\anaconda3\\lib\\site-packages (from transformers<5.0.0,>=4.6.0->sentence-transformers) (0.13.2)\n",
      "Requirement already satisfied: safetensors>=0.3.1 in c:\\users\\eloss\\anaconda3\\lib\\site-packages (from transformers<5.0.0,>=4.6.0->sentence-transformers) (0.3.2)\n",
      "Requirement already satisfied: click in c:\\users\\eloss\\anaconda3\\lib\\site-packages (from nltk->sentence-transformers) (8.0.4)\n",
      "Requirement already satisfied: joblib in c:\\users\\eloss\\anaconda3\\lib\\site-packages (from nltk->sentence-transformers) (1.2.0)\n",
      "Requirement already satisfied: threadpoolctl>=2.0.0 in c:\\users\\eloss\\anaconda3\\lib\\site-packages (from scikit-learn->sentence-transformers) (2.2.0)\n",
      "Requirement already satisfied: pillow!=8.3.*,>=5.3.0 in c:\\users\\eloss\\anaconda3\\lib\\site-packages (from torchvision->sentence-transformers) (9.4.0)\n",
      "Requirement already satisfied: MarkupSafe>=2.0 in c:\\users\\eloss\\anaconda3\\lib\\site-packages (from jinja2->torch>=1.6.0->sentence-transformers) (2.1.1)\n",
      "Requirement already satisfied: charset-normalizer<4,>=2 in c:\\users\\eloss\\anaconda3\\lib\\site-packages (from requests->huggingface-hub>=0.4.0->sentence-transformers) (2.0.4)\n",
      "Requirement already satisfied: idna<4,>=2.5 in c:\\users\\eloss\\anaconda3\\lib\\site-packages (from requests->huggingface-hub>=0.4.0->sentence-transformers) (3.4)\n",
      "Requirement already satisfied: urllib3<3,>=1.21.1 in c:\\users\\eloss\\anaconda3\\lib\\site-packages (from requests->huggingface-hub>=0.4.0->sentence-transformers) (1.26.16)\n",
      "Requirement already satisfied: certifi>=2017.4.17 in c:\\users\\eloss\\anaconda3\\lib\\site-packages (from requests->huggingface-hub>=0.4.0->sentence-transformers) (2023.11.17)\n",
      "Requirement already satisfied: mpmath>=0.19 in c:\\users\\eloss\\anaconda3\\lib\\site-packages (from sympy->torch>=1.6.0->sentence-transformers) (1.3.0)\n"
     ]
    }
   ],
   "source": [
    "!pip install -U sentence-transformers"
   ]
  },
  {
   "cell_type": "code",
   "execution_count": 3,
   "id": "ac0efc9a",
   "metadata": {},
   "outputs": [],
   "source": [
    "from sklearn.datasets import fetch_20newsgroups\n",
    "from sklearn.metrics.cluster import normalized_mutual_info_score, adjusted_rand_score\n",
    "from sklearn.cluster import KMeans\n",
    "from sentence_transformers import SentenceTransformer\n",
    "import numpy as np\n",
    "import prince\n",
    "import pandas as pd\n",
    "import matplotlib.pyplot as plt\n",
    "\n",
    "'''\n",
    "Variables: \n",
    "---------\n",
    "\n",
    "corpus : list of documents\n",
    "embeddings : documents embeddings of size NxM (N : number of documents, M : embedding dimension) \n",
    "red_emd : reduced embeddings matrix using dimentionality reduction\n",
    "k : number of clusters\n",
    "labels : documents labels\n",
    "pred : list of clustering predicted clusters \n",
    "\n",
    "''';"
   ]
  },
  {
   "cell_type": "code",
   "execution_count": null,
   "id": "66a6fe95",
   "metadata": {},
   "outputs": [],
   "source": []
  }
 ],
 "metadata": {
  "kernelspec": {
   "display_name": "Python 3 (ipykernel)",
   "language": "python",
   "name": "python3"
  },
  "language_info": {
   "codemirror_mode": {
    "name": "ipython",
    "version": 3
   },
   "file_extension": ".py",
   "mimetype": "text/x-python",
   "name": "python",
   "nbconvert_exporter": "python",
   "pygments_lexer": "ipython3",
   "version": "3.11.5"
  }
 },
 "nbformat": 4,
 "nbformat_minor": 5
}
